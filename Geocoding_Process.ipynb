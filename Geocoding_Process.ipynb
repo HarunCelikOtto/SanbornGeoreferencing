{
 "cells": [
  {
   "cell_type": "markdown",
   "metadata": {},
   "source": [
    "## Import Libraries"
   ]
  },
  {
   "cell_type": "code",
   "execution_count": null,
   "metadata": {},
   "outputs": [],
   "source": [
    "# Import Libraries\n",
    "\n",
    "from arcgis.gis import GIS\n",
    "import arcgis\n",
    "import rasterio as rast\n",
    "from rasterio.control import GroundControlPoint as gc\n",
    "from rasterio.plot import show\n",
    "import os\n",
    "import pandas as pd\n",
    "import json\n",
    "\n",
    "# Initialize Licensing \n",
    "\n",
    "gis = GIS(\"pro\")"
   ]
  },
  {
   "cell_type": "markdown",
   "metadata": {},
   "source": [
    "## Define Functions"
   ]
  },
  {
   "cell_type": "markdown",
   "metadata": {},
   "source": [
    "### Geocoding Function"
   ]
  },
  {
   "cell_type": "code",
   "execution_count": null,
   "metadata": {},
   "outputs": [],
   "source": [
    "def geocode_address(address_list):\n",
    "    \n",
    "    for address in address_list:\n",
    "        address['geo_y'] = []\n",
    "        address['geo_x'] = []\n",
    "        address['score'] = []\n",
    "\n",
    "    for address in address_list:\n",
    "        geocode_result = arcgis.geocoding.geocode(address=address['address'] + \", Waterloo\")\n",
    "        \n",
    "        # Extract geocode information\n",
    "        geocode_score = geocode_result[0].get('score', None)\n",
    "        geocode_y = geocode_result[0]['location'].get('y', None)\n",
    "        geocode_x = geocode_result[0]['location'].get('x', None)\n",
    "        \n",
    "        # Append geocode values to the respective dictionary\n",
    "        address['geo_y'].append(geocode_y)\n",
    "        address['geo_x'].append(geocode_x)\n",
    "        address['score'].append(geocode_score)\n",
    "          \n",
    "    return address_list"
   ]
  },
  {
   "cell_type": "markdown",
   "metadata": {},
   "source": [
    "### Filter Scoring Function"
   ]
  },
  {
   "cell_type": "code",
   "execution_count": null,
   "metadata": {},
   "outputs": [],
   "source": [
    "def filter_score(geocoded_scores):\n",
    "    filtered_list = [row for row in geocoded_scores if row['score'][0] >= 98]\n",
    "    \n",
    "    return filtered_list"
   ]
  },
  {
   "cell_type": "markdown",
   "metadata": {},
   "source": [
    "### Georeferencing Function"
   ]
  },
  {
   "cell_type": "code",
   "execution_count": null,
   "metadata": {},
   "outputs": [],
   "source": [
    "def georeference_image(image_path, output_path, geocoded_addresses):\n",
    "    \n",
    "    # Access unreferenced raster\n",
    "    unRefRaster = rast.open(image_path)\n",
    "    \n",
    "    # Define output path\n",
    "    refRaster = output_path\n",
    "\n",
    "    # Empty list for control points\n",
    "    point_list = []\n",
    "    \n",
    "    for item in geocoded_addresses:\n",
    "        point = gc(item['y'], item['x'], item['geo_x'][0], item['geo_y'][0])\n",
    "        point_list.append(point)\n",
    "        \n",
    "    transform = rast.transform.from_gcps(point_list)\n",
    "    \n",
    "    with rast.open(refRaster, mode=\"w\", \n",
    "               driver=\"GTiff\", \n",
    "               width=unRefRaster.read(1).shape[0],\n",
    "               height=unRefRaster.read(1).shape[1],\n",
    "               count=3,\n",
    "               dtype=unRefRaster.read(1).dtype,\n",
    "               crs=rast.crs.CRS.from_epsg(4326),\n",
    "               transform = transform\n",
    "               ) as dst:\n",
    "        dst.write(unRefRaster.read(1), 1)\n",
    "        dst.write(unRefRaster.read(2), 2)\n",
    "        dst.write(unRefRaster.read(3), 3)\n",
    "        \n",
    "    geoRaster = rast.open(refRaster)\n",
    "    show(geoRaster)\n",
    "        \n",
    "    print(\"Raster Transformation Complete\")"
   ]
  },
  {
   "cell_type": "markdown",
   "metadata": {},
   "source": [
    "### Renaming File Function"
   ]
  },
  {
   "cell_type": "code",
   "execution_count": null,
   "metadata": {},
   "outputs": [],
   "source": [
    "\n",
    "def rename_file(file_name):\n",
    "    base_name, extension = os.path.splitext(file_name)\n",
    "    if extension.lower() == \".jpg\":\n",
    "        new_file_path = base_name + \".tif\"\n",
    "        return new_file_path\n",
    "    else:\n",
    "        return file_path"
   ]
  },
  {
   "cell_type": "markdown",
   "metadata": {},
   "source": [
    "### Reverse Transformation Function"
   ]
  },
  {
   "cell_type": "code",
   "execution_count": null,
   "metadata": {},
   "outputs": [],
   "source": [
    "def pixel_coordinates(image_path, geocoded_address):\n",
    "        \n",
    "        # Define new properties for coordinates corresponding to pixels\n",
    "        for item in geocoded_address:\n",
    "            item['pixel_y'] = []\n",
    "            item['pixel_x'] = []\n",
    "            \n",
    "        with rasterio.open(image_path) as src:\n",
    "            raster_transform = src.transform\n",
    "            \n",
    "        for item in geocoded_address:\n",
    "            pixel_x = item['x']\n",
    "            pixel_y = item['y']\n",
    "            \n",
    "            x,y = rasterio.transform.xy(transform = raster_transform,\n",
    "                                        rows = pixel_y,\n",
    "                                        cols = pixel_x)\n",
    "            \n",
    "            item['pixel_y'].append(y)\n",
    "            item['pixel_x'].append(x)\n",
    "            \n",
    "        return geocoded_address"
   ]
  },
  {
   "cell_type": "markdown",
   "metadata": {},
   "source": [
    "### Haversine Calculation Function"
   ]
  },
  {
   "cell_type": "code",
   "execution_count": null,
   "metadata": {},
   "outputs": [],
   "source": [
    "def calculate_haversine(geocoded_address):\n",
    "    \n",
    "    for item in geocoded_address:\n",
    "        item['haversine_meters'] = []\n",
    "        \n",
    "        pixel_coords = (item['pixel_y'][0], item['pixel_x'][0])\n",
    "        geo_coords = (item['geo_y'][0], item['geo_x'][0])\n",
    "        \n",
    "        distance = haversine(pixel_coords, geo_coords)\n",
    "        distance = distance * 1000\n",
    "        \n",
    "        item['haversine_meters'].append(distance)\n",
    "        \n",
    "    return geocoded_address\n",
    "  \n",
    "    "
   ]
  },
  {
   "cell_type": "markdown",
   "metadata": {},
   "source": [
    "## Set Directories "
   ]
  },
  {
   "cell_type": "markdown",
   "metadata": {},
   "source": [
    "### Set Paths"
   ]
  },
  {
   "cell_type": "code",
   "execution_count": null,
   "metadata": {},
   "outputs": [],
   "source": [
    "# Image paths and Work Directories\n",
    "\n",
    "images_path =  \"Testing_Clips\"\n",
    "low_noise_path = os.path.join(images_path, \"Low_Noise\")\n",
    "result_dir = os.path.join(images_path, \"result\")\n",
    "result_out_dir = os.path.join(images_path, \"result_out\")\n",
    "\n",
    "os.chdir(result_dir)\n",
    "print(\"Current Working Directory:\", os.getcwd())"
   ]
  },
  {
   "cell_type": "code",
   "execution_count": null,
   "metadata": {},
   "outputs": [],
   "source": [
    "# Image and Feature File Names\n",
    "\n",
    "image_name = \"WaterlooJuly1892_3.jpg\"\n",
    "image_name_base, image_name_ext =  os.path.splitext(image_name)\n",
    "ref_image_name = \"referenced_\" + rename_file(image_name)\n",
    "\n",
    "feature_list = open(image_name_base + \".txt\", \"r\")\n",
    "feature_list = feature_list.read()\n",
    "feature_list = json.loads(feature_list)"
   ]
  },
  {
   "cell_type": "code",
   "execution_count": null,
   "metadata": {},
   "outputs": [],
   "source": [
    "feature_list"
   ]
  },
  {
   "cell_type": "markdown",
   "metadata": {},
   "source": [
    "### Geocode The Address"
   ]
  },
  {
   "cell_type": "code",
   "execution_count": null,
   "metadata": {
    "scrolled": false
   },
   "outputs": [],
   "source": [
    "geocode_results = geocode_address(address_list = feature_list)"
   ]
  },
  {
   "cell_type": "code",
   "execution_count": null,
   "metadata": {},
   "outputs": [],
   "source": [
    "filtered_results = filter_score(geocoded_scores=geocode_results)"
   ]
  },
  {
   "cell_type": "markdown",
   "metadata": {},
   "source": [
    "### Transform the Raster"
   ]
  },
  {
   "cell_type": "code",
   "execution_count": null,
   "metadata": {
    "scrolled": false
   },
   "outputs": [],
   "source": [
    "georeference_image(image_path = os.path.join(os.getcwd(), image_name), \n",
    "                   geocoded_addresses=filtered_results, \n",
    "                   output_path= os.path.join(result_out_dir, ref_image_name))"
   ]
  },
  {
   "cell_type": "markdown",
   "metadata": {},
   "source": [
    "### Reverse Transform"
   ]
  },
  {
   "cell_type": "code",
   "execution_count": null,
   "metadata": {},
   "outputs": [],
   "source": [
    "pixelcoord_results = pixel_coordinates(image_path = os.path.join(result_out_dir, ref_image_name), \n",
    "                                       geocoded_address=filtered_results)"
   ]
  },
  {
   "cell_type": "markdown",
   "metadata": {},
   "source": [
    "### Calculate Haversine Distances"
   ]
  },
  {
   "cell_type": "code",
   "execution_count": null,
   "metadata": {
    "scrolled": true
   },
   "outputs": [],
   "source": [
    "haversine_results = calculate_haversine(geocoded_address=pixelcoord_results)"
   ]
  },
  {
   "cell_type": "markdown",
   "metadata": {},
   "source": [
    "### Convert to Data Frame and Export"
   ]
  },
  {
   "cell_type": "code",
   "execution_count": null,
   "metadata": {},
   "outputs": [],
   "source": [
    "df = pd.DataFrame(haversine_results)\n",
    "df"
   ]
  },
  {
   "cell_type": "code",
   "execution_count": null,
   "metadata": {},
   "outputs": [],
   "source": [
    "df.to_csv(image_name + \".csv\")"
   ]
  },
  {
   "cell_type": "code",
   "execution_count": null,
   "metadata": {},
   "outputs": [],
   "source": [
    "geocode_results"
   ]
  }
 ],
 "metadata": {
  "kernelspec": {
   "display_name": "Python 3 (ipykernel)",
   "language": "python",
   "name": "python3"
  },
  "language_info": {
   "file_extension": ".py",
   "name": "python",
   "version": "3"
  },
  "toc": {
   "base_numbering": 1,
   "nav_menu": {},
   "number_sections": true,
   "sideBar": true,
   "skip_h1_title": false,
   "title_cell": "Table of Contents",
   "title_sidebar": "Contents",
   "toc_cell": false,
   "toc_position": {},
   "toc_section_display": true,
   "toc_window_display": false
  }
 },
 "nbformat": 4,
 "nbformat_minor": 2
}
